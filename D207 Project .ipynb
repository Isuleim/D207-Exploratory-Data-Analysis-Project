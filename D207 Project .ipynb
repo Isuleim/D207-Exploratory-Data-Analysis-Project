{
 "cells": [
  {
   "cell_type": "code",
   "execution_count": 2,
   "id": "68b817e9",
   "metadata": {},
   "outputs": [
    {
     "name": "stdout",
     "output_type": "stream",
     "text": [
      "      CaseOrder Customer_id                           Interaction  \\\n",
      "0             1     K409198  aa90260b-4141-4a24-8e36-b04ce1f4f77b   \n",
      "1             2     S120509  fb76459f-c047-4a9d-8af9-e0f7d4ac2524   \n",
      "2             3     K191035  344d114c-3736-4be5-98f7-c72c281e2d35   \n",
      "3             4      D90850  abfa2b40-2d43-4994-b15a-989b8c79e311   \n",
      "4             5     K662701  68a861fd-0d20-4e51-a587-8a90407ee574   \n",
      "...         ...         ...                                   ...   \n",
      "9995       9996     M324793  45deb5a2-ae04-4518-bf0b-c82db8dbe4a4   \n",
      "9996       9997     D861732  6e96b921-0c09-4993-bbda-a1ac6411061a   \n",
      "9997       9998     I243405  e8307ddf-9a01-4fff-bc59-4742e03fd24f   \n",
      "9998       9999     I641617  3775ccfc-0052-4107-81ae-9657f81ecdf3   \n",
      "9999      10000      T38070  9de5fb6e-bd33-4995-aec8-f01d0172a499   \n",
      "\n",
      "                                   UID          City State  \\\n",
      "0     e885b299883d4f9fb18e39c75155d990   Point Baker    AK   \n",
      "1     f2de8bef964785f41a2959829830fb8a   West Branch    MI   \n",
      "2     f1784cfa9f6d92ae816197eb175d3c71       Yamhill    OR   \n",
      "3     dc8a365077241bb5cd5ccd305136b05e       Del Mar    CA   \n",
      "4     aabb64a116e83fdc4befc1fbab1663f9     Needville    TX   \n",
      "...                                ...           ...   ...   \n",
      "9995  9499fb4de537af195d16d046b79fd20a   Mount Holly    VT   \n",
      "9996  c09a841117fa81b5c8e19afec2760104   Clarksville    TN   \n",
      "9997  9c41f212d1e04dca84445019bbc9b41c      Mobeetie    TX   \n",
      "9998  3e1f269b40c235a1038863ecf6b7a0df    Carrollton    GA   \n",
      "9999  0ea683a03a3cd544aefe8388aab16176  Clarkesville    GA   \n",
      "\n",
      "                     County    Zip       Lat        Lng  ...  MonthlyCharge  \\\n",
      "0     Prince of Wales-Hyder  99927  56.25100 -133.37571  ...     172.455519   \n",
      "1                    Ogemaw  48661  44.32893  -84.24080  ...     242.632554   \n",
      "2                   Yamhill  97148  45.35589 -123.24657  ...     159.947583   \n",
      "3                 San Diego  92014  32.96687 -117.24798  ...     119.956840   \n",
      "4                 Fort Bend  77461  29.38012  -95.80673  ...     149.948316   \n",
      "...                     ...    ...       ...        ...  ...            ...   \n",
      "9995                Rutland   5758  43.43391  -72.78734  ...     159.979400   \n",
      "9996             Montgomery  37042  36.56907  -87.41694  ...     207.481100   \n",
      "9997                Wheeler  79061  35.52039 -100.44180  ...     169.974100   \n",
      "9998                Carroll  30117  33.58016  -85.13241  ...     252.624000   \n",
      "9999              Habersham  30523  34.70783  -83.53648  ...     217.484000   \n",
      "\n",
      "     Bandwidth_GB_Year Item1 Item2  Item3  Item4  Item5 Item6 Item7 Item8  \n",
      "0           904.536110     5     5      5      3      4     4     3     4  \n",
      "1           800.982766     3     4      3      3      4     3     4     4  \n",
      "2          2054.706961     4     4      2      4      4     3     3     3  \n",
      "3          2164.579412     4     4      4      2      5     4     3     3  \n",
      "4           271.493436     4     4      4      3      4     4     4     5  \n",
      "...                ...   ...   ...    ...    ...    ...   ...   ...   ...  \n",
      "9995       6511.252601     3     2      3      3      4     3     2     3  \n",
      "9996       5695.951810     4     5      5      4      4     5     2     5  \n",
      "9997       4159.305799     4     4      4      4      4     4     4     5  \n",
      "9998       6468.456752     4     4      6      4      3     3     5     4  \n",
      "9999       5857.586167     2     2      3      3      3     3     4     1  \n",
      "\n",
      "[10000 rows x 50 columns]\n"
     ]
    }
   ],
   "source": [
    "import numpy as np\n",
    "import pandas as pd\n",
    "import scipy.stats as stat\n",
    "import matplotlib.mlab as mlab\n",
    "import matplotlib.pyplot as plt\n",
    "import seaborn as sns\n",
    "import statsmodels.api as sm\n",
    "from statsmodels.formula.api import ols\n",
    "from scipy import stats\n",
    "%matplotlib inline\n",
    "df = pd.read_csv(\"churn_clean.csv\")\n",
    "print(df)"
   ]
  },
  {
   "cell_type": "code",
   "execution_count": 3,
   "id": "c4aff05e",
   "metadata": {},
   "outputs": [
    {
     "data": {
      "text/plain": [
       "<bound method NDFrame.tail of       CaseOrder Customer_id                           Interaction  \\\n",
       "0             1     K409198  aa90260b-4141-4a24-8e36-b04ce1f4f77b   \n",
       "1             2     S120509  fb76459f-c047-4a9d-8af9-e0f7d4ac2524   \n",
       "2             3     K191035  344d114c-3736-4be5-98f7-c72c281e2d35   \n",
       "3             4      D90850  abfa2b40-2d43-4994-b15a-989b8c79e311   \n",
       "4             5     K662701  68a861fd-0d20-4e51-a587-8a90407ee574   \n",
       "...         ...         ...                                   ...   \n",
       "9995       9996     M324793  45deb5a2-ae04-4518-bf0b-c82db8dbe4a4   \n",
       "9996       9997     D861732  6e96b921-0c09-4993-bbda-a1ac6411061a   \n",
       "9997       9998     I243405  e8307ddf-9a01-4fff-bc59-4742e03fd24f   \n",
       "9998       9999     I641617  3775ccfc-0052-4107-81ae-9657f81ecdf3   \n",
       "9999      10000      T38070  9de5fb6e-bd33-4995-aec8-f01d0172a499   \n",
       "\n",
       "                                   UID          City State  \\\n",
       "0     e885b299883d4f9fb18e39c75155d990   Point Baker    AK   \n",
       "1     f2de8bef964785f41a2959829830fb8a   West Branch    MI   \n",
       "2     f1784cfa9f6d92ae816197eb175d3c71       Yamhill    OR   \n",
       "3     dc8a365077241bb5cd5ccd305136b05e       Del Mar    CA   \n",
       "4     aabb64a116e83fdc4befc1fbab1663f9     Needville    TX   \n",
       "...                                ...           ...   ...   \n",
       "9995  9499fb4de537af195d16d046b79fd20a   Mount Holly    VT   \n",
       "9996  c09a841117fa81b5c8e19afec2760104   Clarksville    TN   \n",
       "9997  9c41f212d1e04dca84445019bbc9b41c      Mobeetie    TX   \n",
       "9998  3e1f269b40c235a1038863ecf6b7a0df    Carrollton    GA   \n",
       "9999  0ea683a03a3cd544aefe8388aab16176  Clarkesville    GA   \n",
       "\n",
       "                     County    Zip       Lat        Lng  ...  MonthlyCharge  \\\n",
       "0     Prince of Wales-Hyder  99927  56.25100 -133.37571  ...     172.455519   \n",
       "1                    Ogemaw  48661  44.32893  -84.24080  ...     242.632554   \n",
       "2                   Yamhill  97148  45.35589 -123.24657  ...     159.947583   \n",
       "3                 San Diego  92014  32.96687 -117.24798  ...     119.956840   \n",
       "4                 Fort Bend  77461  29.38012  -95.80673  ...     149.948316   \n",
       "...                     ...    ...       ...        ...  ...            ...   \n",
       "9995                Rutland   5758  43.43391  -72.78734  ...     159.979400   \n",
       "9996             Montgomery  37042  36.56907  -87.41694  ...     207.481100   \n",
       "9997                Wheeler  79061  35.52039 -100.44180  ...     169.974100   \n",
       "9998                Carroll  30117  33.58016  -85.13241  ...     252.624000   \n",
       "9999              Habersham  30523  34.70783  -83.53648  ...     217.484000   \n",
       "\n",
       "     Bandwidth_GB_Year Item1 Item2  Item3  Item4  Item5 Item6 Item7 Item8  \n",
       "0           904.536110     5     5      5      3      4     4     3     4  \n",
       "1           800.982766     3     4      3      3      4     3     4     4  \n",
       "2          2054.706961     4     4      2      4      4     3     3     3  \n",
       "3          2164.579412     4     4      4      2      5     4     3     3  \n",
       "4           271.493436     4     4      4      3      4     4     4     5  \n",
       "...                ...   ...   ...    ...    ...    ...   ...   ...   ...  \n",
       "9995       6511.252601     3     2      3      3      4     3     2     3  \n",
       "9996       5695.951810     4     5      5      4      4     5     2     5  \n",
       "9997       4159.305799     4     4      4      4      4     4     4     5  \n",
       "9998       6468.456752     4     4      6      4      3     3     5     4  \n",
       "9999       5857.586167     2     2      3      3      3     3     4     1  \n",
       "\n",
       "[10000 rows x 50 columns]>"
      ]
     },
     "execution_count": 3,
     "metadata": {},
     "output_type": "execute_result"
    }
   ],
   "source": [
    "df.tail"
   ]
  },
  {
   "cell_type": "code",
   "execution_count": 4,
   "id": "71a037d1",
   "metadata": {},
   "outputs": [
    {
     "name": "stdout",
     "output_type": "stream",
     "text": [
      "<class 'pandas.core.frame.DataFrame'>\n",
      "RangeIndex: 10000 entries, 0 to 9999\n",
      "Data columns (total 50 columns):\n",
      " #   Column                Non-Null Count  Dtype  \n",
      "---  ------                --------------  -----  \n",
      " 0   CaseOrder             10000 non-null  int64  \n",
      " 1   Customer_id           10000 non-null  object \n",
      " 2   Interaction           10000 non-null  object \n",
      " 3   UID                   10000 non-null  object \n",
      " 4   City                  10000 non-null  object \n",
      " 5   State                 10000 non-null  object \n",
      " 6   County                10000 non-null  object \n",
      " 7   Zip                   10000 non-null  int64  \n",
      " 8   Lat                   10000 non-null  float64\n",
      " 9   Lng                   10000 non-null  float64\n",
      " 10  Population            10000 non-null  int64  \n",
      " 11  Area                  10000 non-null  object \n",
      " 12  TimeZone              10000 non-null  object \n",
      " 13  Job                   10000 non-null  object \n",
      " 14  Children              10000 non-null  int64  \n",
      " 15  Age                   10000 non-null  int64  \n",
      " 16  Income                10000 non-null  float64\n",
      " 17  Marital               10000 non-null  object \n",
      " 18  Gender                10000 non-null  object \n",
      " 19  Churn                 10000 non-null  object \n",
      " 20  Outage_sec_perweek    10000 non-null  float64\n",
      " 21  Email                 10000 non-null  int64  \n",
      " 22  Contacts              10000 non-null  int64  \n",
      " 23  Yearly_equip_failure  10000 non-null  int64  \n",
      " 24  Techie                10000 non-null  object \n",
      " 25  Contract              10000 non-null  object \n",
      " 26  Port_modem            10000 non-null  object \n",
      " 27  Tablet                10000 non-null  object \n",
      " 28  InternetService       10000 non-null  object \n",
      " 29  Phone                 10000 non-null  object \n",
      " 30  Multiple              10000 non-null  object \n",
      " 31  OnlineSecurity        10000 non-null  object \n",
      " 32  OnlineBackup          10000 non-null  object \n",
      " 33  DeviceProtection      10000 non-null  object \n",
      " 34  TechSupport           10000 non-null  object \n",
      " 35  StreamingTV           10000 non-null  object \n",
      " 36  StreamingMovies       10000 non-null  object \n",
      " 37  PaperlessBilling      10000 non-null  object \n",
      " 38  PaymentMethod         10000 non-null  object \n",
      " 39  Tenure                10000 non-null  float64\n",
      " 40  MonthlyCharge         10000 non-null  float64\n",
      " 41  Bandwidth_GB_Year     10000 non-null  float64\n",
      " 42  Item1                 10000 non-null  int64  \n",
      " 43  Item2                 10000 non-null  int64  \n",
      " 44  Item3                 10000 non-null  int64  \n",
      " 45  Item4                 10000 non-null  int64  \n",
      " 46  Item5                 10000 non-null  int64  \n",
      " 47  Item6                 10000 non-null  int64  \n",
      " 48  Item7                 10000 non-null  int64  \n",
      " 49  Item8                 10000 non-null  int64  \n",
      "dtypes: float64(7), int64(16), object(27)\n",
      "memory usage: 3.8+ MB\n"
     ]
    }
   ],
   "source": [
    "df.info()"
   ]
  },
  {
   "cell_type": "code",
   "execution_count": 5,
   "id": "8ec06b01",
   "metadata": {},
   "outputs": [
    {
     "data": {
      "text/html": [
       "<div>\n",
       "<style scoped>\n",
       "    .dataframe tbody tr th:only-of-type {\n",
       "        vertical-align: middle;\n",
       "    }\n",
       "\n",
       "    .dataframe tbody tr th {\n",
       "        vertical-align: top;\n",
       "    }\n",
       "\n",
       "    .dataframe thead th {\n",
       "        text-align: right;\n",
       "    }\n",
       "</style>\n",
       "<table border=\"1\" class=\"dataframe\">\n",
       "  <thead>\n",
       "    <tr style=\"text-align: right;\">\n",
       "      <th></th>\n",
       "      <th>CaseOrder</th>\n",
       "      <th>Zip</th>\n",
       "      <th>Lat</th>\n",
       "      <th>Lng</th>\n",
       "      <th>Population</th>\n",
       "      <th>Children</th>\n",
       "      <th>Age</th>\n",
       "      <th>Income</th>\n",
       "      <th>Outage_sec_perweek</th>\n",
       "      <th>Email</th>\n",
       "      <th>...</th>\n",
       "      <th>MonthlyCharge</th>\n",
       "      <th>Bandwidth_GB_Year</th>\n",
       "      <th>Item1</th>\n",
       "      <th>Item2</th>\n",
       "      <th>Item3</th>\n",
       "      <th>Item4</th>\n",
       "      <th>Item5</th>\n",
       "      <th>Item6</th>\n",
       "      <th>Item7</th>\n",
       "      <th>Item8</th>\n",
       "    </tr>\n",
       "  </thead>\n",
       "  <tbody>\n",
       "    <tr>\n",
       "      <th>count</th>\n",
       "      <td>10000.00000</td>\n",
       "      <td>10000.000000</td>\n",
       "      <td>10000.000000</td>\n",
       "      <td>10000.000000</td>\n",
       "      <td>10000.000000</td>\n",
       "      <td>10000.0000</td>\n",
       "      <td>10000.000000</td>\n",
       "      <td>10000.000000</td>\n",
       "      <td>10000.000000</td>\n",
       "      <td>10000.000000</td>\n",
       "      <td>...</td>\n",
       "      <td>10000.000000</td>\n",
       "      <td>10000.000000</td>\n",
       "      <td>10000.000000</td>\n",
       "      <td>10000.000000</td>\n",
       "      <td>10000.000000</td>\n",
       "      <td>10000.000000</td>\n",
       "      <td>10000.000000</td>\n",
       "      <td>10000.000000</td>\n",
       "      <td>10000.000000</td>\n",
       "      <td>10000.000000</td>\n",
       "    </tr>\n",
       "    <tr>\n",
       "      <th>mean</th>\n",
       "      <td>5000.50000</td>\n",
       "      <td>49153.319600</td>\n",
       "      <td>38.757567</td>\n",
       "      <td>-90.782536</td>\n",
       "      <td>9756.562400</td>\n",
       "      <td>2.0877</td>\n",
       "      <td>53.078400</td>\n",
       "      <td>39806.926771</td>\n",
       "      <td>10.001848</td>\n",
       "      <td>12.016000</td>\n",
       "      <td>...</td>\n",
       "      <td>172.624816</td>\n",
       "      <td>3392.341550</td>\n",
       "      <td>3.490800</td>\n",
       "      <td>3.505100</td>\n",
       "      <td>3.487000</td>\n",
       "      <td>3.497500</td>\n",
       "      <td>3.492900</td>\n",
       "      <td>3.497300</td>\n",
       "      <td>3.509500</td>\n",
       "      <td>3.495600</td>\n",
       "    </tr>\n",
       "    <tr>\n",
       "      <th>std</th>\n",
       "      <td>2886.89568</td>\n",
       "      <td>27532.196108</td>\n",
       "      <td>5.437389</td>\n",
       "      <td>15.156142</td>\n",
       "      <td>14432.698671</td>\n",
       "      <td>2.1472</td>\n",
       "      <td>20.698882</td>\n",
       "      <td>28199.916702</td>\n",
       "      <td>2.976019</td>\n",
       "      <td>3.025898</td>\n",
       "      <td>...</td>\n",
       "      <td>42.943094</td>\n",
       "      <td>2185.294852</td>\n",
       "      <td>1.037797</td>\n",
       "      <td>1.034641</td>\n",
       "      <td>1.027977</td>\n",
       "      <td>1.025816</td>\n",
       "      <td>1.024819</td>\n",
       "      <td>1.033586</td>\n",
       "      <td>1.028502</td>\n",
       "      <td>1.028633</td>\n",
       "    </tr>\n",
       "    <tr>\n",
       "      <th>min</th>\n",
       "      <td>1.00000</td>\n",
       "      <td>601.000000</td>\n",
       "      <td>17.966120</td>\n",
       "      <td>-171.688150</td>\n",
       "      <td>0.000000</td>\n",
       "      <td>0.0000</td>\n",
       "      <td>18.000000</td>\n",
       "      <td>348.670000</td>\n",
       "      <td>0.099747</td>\n",
       "      <td>1.000000</td>\n",
       "      <td>...</td>\n",
       "      <td>79.978860</td>\n",
       "      <td>155.506715</td>\n",
       "      <td>1.000000</td>\n",
       "      <td>1.000000</td>\n",
       "      <td>1.000000</td>\n",
       "      <td>1.000000</td>\n",
       "      <td>1.000000</td>\n",
       "      <td>1.000000</td>\n",
       "      <td>1.000000</td>\n",
       "      <td>1.000000</td>\n",
       "    </tr>\n",
       "    <tr>\n",
       "      <th>25%</th>\n",
       "      <td>2500.75000</td>\n",
       "      <td>26292.500000</td>\n",
       "      <td>35.341828</td>\n",
       "      <td>-97.082812</td>\n",
       "      <td>738.000000</td>\n",
       "      <td>0.0000</td>\n",
       "      <td>35.000000</td>\n",
       "      <td>19224.717500</td>\n",
       "      <td>8.018214</td>\n",
       "      <td>10.000000</td>\n",
       "      <td>...</td>\n",
       "      <td>139.979239</td>\n",
       "      <td>1236.470827</td>\n",
       "      <td>3.000000</td>\n",
       "      <td>3.000000</td>\n",
       "      <td>3.000000</td>\n",
       "      <td>3.000000</td>\n",
       "      <td>3.000000</td>\n",
       "      <td>3.000000</td>\n",
       "      <td>3.000000</td>\n",
       "      <td>3.000000</td>\n",
       "    </tr>\n",
       "    <tr>\n",
       "      <th>50%</th>\n",
       "      <td>5000.50000</td>\n",
       "      <td>48869.500000</td>\n",
       "      <td>39.395800</td>\n",
       "      <td>-87.918800</td>\n",
       "      <td>2910.500000</td>\n",
       "      <td>1.0000</td>\n",
       "      <td>53.000000</td>\n",
       "      <td>33170.605000</td>\n",
       "      <td>10.018560</td>\n",
       "      <td>12.000000</td>\n",
       "      <td>...</td>\n",
       "      <td>167.484700</td>\n",
       "      <td>3279.536903</td>\n",
       "      <td>3.000000</td>\n",
       "      <td>4.000000</td>\n",
       "      <td>3.000000</td>\n",
       "      <td>3.000000</td>\n",
       "      <td>3.000000</td>\n",
       "      <td>3.000000</td>\n",
       "      <td>4.000000</td>\n",
       "      <td>3.000000</td>\n",
       "    </tr>\n",
       "    <tr>\n",
       "      <th>75%</th>\n",
       "      <td>7500.25000</td>\n",
       "      <td>71866.500000</td>\n",
       "      <td>42.106908</td>\n",
       "      <td>-80.088745</td>\n",
       "      <td>13168.000000</td>\n",
       "      <td>3.0000</td>\n",
       "      <td>71.000000</td>\n",
       "      <td>53246.170000</td>\n",
       "      <td>11.969485</td>\n",
       "      <td>14.000000</td>\n",
       "      <td>...</td>\n",
       "      <td>200.734725</td>\n",
       "      <td>5586.141370</td>\n",
       "      <td>4.000000</td>\n",
       "      <td>4.000000</td>\n",
       "      <td>4.000000</td>\n",
       "      <td>4.000000</td>\n",
       "      <td>4.000000</td>\n",
       "      <td>4.000000</td>\n",
       "      <td>4.000000</td>\n",
       "      <td>4.000000</td>\n",
       "    </tr>\n",
       "    <tr>\n",
       "      <th>max</th>\n",
       "      <td>10000.00000</td>\n",
       "      <td>99929.000000</td>\n",
       "      <td>70.640660</td>\n",
       "      <td>-65.667850</td>\n",
       "      <td>111850.000000</td>\n",
       "      <td>10.0000</td>\n",
       "      <td>89.000000</td>\n",
       "      <td>258900.700000</td>\n",
       "      <td>21.207230</td>\n",
       "      <td>23.000000</td>\n",
       "      <td>...</td>\n",
       "      <td>290.160419</td>\n",
       "      <td>7158.981530</td>\n",
       "      <td>7.000000</td>\n",
       "      <td>7.000000</td>\n",
       "      <td>8.000000</td>\n",
       "      <td>7.000000</td>\n",
       "      <td>7.000000</td>\n",
       "      <td>8.000000</td>\n",
       "      <td>7.000000</td>\n",
       "      <td>8.000000</td>\n",
       "    </tr>\n",
       "  </tbody>\n",
       "</table>\n",
       "<p>8 rows × 23 columns</p>\n",
       "</div>"
      ],
      "text/plain": [
       "         CaseOrder           Zip           Lat           Lng     Population  \\\n",
       "count  10000.00000  10000.000000  10000.000000  10000.000000   10000.000000   \n",
       "mean    5000.50000  49153.319600     38.757567    -90.782536    9756.562400   \n",
       "std     2886.89568  27532.196108      5.437389     15.156142   14432.698671   \n",
       "min        1.00000    601.000000     17.966120   -171.688150       0.000000   \n",
       "25%     2500.75000  26292.500000     35.341828    -97.082812     738.000000   \n",
       "50%     5000.50000  48869.500000     39.395800    -87.918800    2910.500000   \n",
       "75%     7500.25000  71866.500000     42.106908    -80.088745   13168.000000   \n",
       "max    10000.00000  99929.000000     70.640660    -65.667850  111850.000000   \n",
       "\n",
       "         Children           Age         Income  Outage_sec_perweek  \\\n",
       "count  10000.0000  10000.000000   10000.000000        10000.000000   \n",
       "mean       2.0877     53.078400   39806.926771           10.001848   \n",
       "std        2.1472     20.698882   28199.916702            2.976019   \n",
       "min        0.0000     18.000000     348.670000            0.099747   \n",
       "25%        0.0000     35.000000   19224.717500            8.018214   \n",
       "50%        1.0000     53.000000   33170.605000           10.018560   \n",
       "75%        3.0000     71.000000   53246.170000           11.969485   \n",
       "max       10.0000     89.000000  258900.700000           21.207230   \n",
       "\n",
       "              Email  ...  MonthlyCharge  Bandwidth_GB_Year         Item1  \\\n",
       "count  10000.000000  ...   10000.000000       10000.000000  10000.000000   \n",
       "mean      12.016000  ...     172.624816        3392.341550      3.490800   \n",
       "std        3.025898  ...      42.943094        2185.294852      1.037797   \n",
       "min        1.000000  ...      79.978860         155.506715      1.000000   \n",
       "25%       10.000000  ...     139.979239        1236.470827      3.000000   \n",
       "50%       12.000000  ...     167.484700        3279.536903      3.000000   \n",
       "75%       14.000000  ...     200.734725        5586.141370      4.000000   \n",
       "max       23.000000  ...     290.160419        7158.981530      7.000000   \n",
       "\n",
       "              Item2         Item3         Item4         Item5         Item6  \\\n",
       "count  10000.000000  10000.000000  10000.000000  10000.000000  10000.000000   \n",
       "mean       3.505100      3.487000      3.497500      3.492900      3.497300   \n",
       "std        1.034641      1.027977      1.025816      1.024819      1.033586   \n",
       "min        1.000000      1.000000      1.000000      1.000000      1.000000   \n",
       "25%        3.000000      3.000000      3.000000      3.000000      3.000000   \n",
       "50%        4.000000      3.000000      3.000000      3.000000      3.000000   \n",
       "75%        4.000000      4.000000      4.000000      4.000000      4.000000   \n",
       "max        7.000000      8.000000      7.000000      7.000000      8.000000   \n",
       "\n",
       "              Item7         Item8  \n",
       "count  10000.000000  10000.000000  \n",
       "mean       3.509500      3.495600  \n",
       "std        1.028502      1.028633  \n",
       "min        1.000000      1.000000  \n",
       "25%        3.000000      3.000000  \n",
       "50%        4.000000      3.000000  \n",
       "75%        4.000000      4.000000  \n",
       "max        7.000000      8.000000  \n",
       "\n",
       "[8 rows x 23 columns]"
      ]
     },
     "execution_count": 5,
     "metadata": {},
     "output_type": "execute_result"
    }
   ],
   "source": [
    "df.describe()"
   ]
  },
  {
   "cell_type": "code",
   "execution_count": 6,
   "id": "b35a2513",
   "metadata": {},
   "outputs": [
    {
     "data": {
      "text/plain": [
       "CaseOrder                 int64\n",
       "Customer_id              object\n",
       "Interaction              object\n",
       "UID                      object\n",
       "City                     object\n",
       "State                    object\n",
       "County                   object\n",
       "Zip                       int64\n",
       "Lat                     float64\n",
       "Lng                     float64\n",
       "Population                int64\n",
       "Area                     object\n",
       "TimeZone                 object\n",
       "Job                      object\n",
       "Children                  int64\n",
       "Age                       int64\n",
       "Income                  float64\n",
       "Marital                  object\n",
       "Gender                   object\n",
       "Churn                    object\n",
       "Outage_sec_perweek      float64\n",
       "Email                     int64\n",
       "Contacts                  int64\n",
       "Yearly_equip_failure      int64\n",
       "Techie                   object\n",
       "Contract                 object\n",
       "Port_modem               object\n",
       "Tablet                   object\n",
       "InternetService          object\n",
       "Phone                    object\n",
       "Multiple                 object\n",
       "OnlineSecurity           object\n",
       "OnlineBackup             object\n",
       "DeviceProtection         object\n",
       "TechSupport              object\n",
       "StreamingTV              object\n",
       "StreamingMovies          object\n",
       "PaperlessBilling         object\n",
       "PaymentMethod            object\n",
       "Tenure                  float64\n",
       "MonthlyCharge           float64\n",
       "Bandwidth_GB_Year       float64\n",
       "Item1                     int64\n",
       "Item2                     int64\n",
       "Item3                     int64\n",
       "Item4                     int64\n",
       "Item5                     int64\n",
       "Item6                     int64\n",
       "Item7                     int64\n",
       "Item8                     int64\n",
       "dtype: object"
      ]
     },
     "execution_count": 6,
     "metadata": {},
     "output_type": "execute_result"
    }
   ],
   "source": [
    "df.dtypes"
   ]
  },
  {
   "cell_type": "code",
   "execution_count": 7,
   "id": "14d5d010",
   "metadata": {},
   "outputs": [
    {
     "data": {
      "text/plain": [
       "(10000, 50)"
      ]
     },
     "execution_count": 7,
     "metadata": {},
     "output_type": "execute_result"
    }
   ],
   "source": [
    "df.shape"
   ]
  },
  {
   "cell_type": "code",
   "execution_count": 8,
   "id": "efc4dac5",
   "metadata": {},
   "outputs": [
    {
     "data": {
      "text/plain": [
       "Index(['CaseOrder', 'Customer_id', 'Interaction', 'UID', 'City', 'State',\n",
       "       'County', 'Zip', 'Lat', 'Lng', 'Population', 'Area', 'TimeZone', 'Job',\n",
       "       'Children', 'Age', 'Income', 'Marital', 'Gender', 'Churn',\n",
       "       'Outage_sec_perweek', 'Email', 'Contacts', 'Yearly_equip_failure',\n",
       "       'Techie', 'Contract', 'Port_modem', 'Tablet', 'InternetService',\n",
       "       'Phone', 'Multiple', 'OnlineSecurity', 'OnlineBackup',\n",
       "       'DeviceProtection', 'TechSupport', 'StreamingTV', 'StreamingMovies',\n",
       "       'PaperlessBilling', 'PaymentMethod', 'Tenure', 'MonthlyCharge',\n",
       "       'Bandwidth_GB_Year', 'Item1', 'Item2', 'Item3', 'Item4', 'Item5',\n",
       "       'Item6', 'Item7', 'Item8'],\n",
       "      dtype='object')"
      ]
     },
     "execution_count": 8,
     "metadata": {},
     "output_type": "execute_result"
    }
   ],
   "source": [
    "df.columns"
   ]
  },
  {
   "cell_type": "code",
   "execution_count": 9,
   "id": "b7b2b01c",
   "metadata": {},
   "outputs": [
    {
     "data": {
      "text/html": [
       "<div>\n",
       "<style scoped>\n",
       "    .dataframe tbody tr th:only-of-type {\n",
       "        vertical-align: middle;\n",
       "    }\n",
       "\n",
       "    .dataframe tbody tr th {\n",
       "        vertical-align: top;\n",
       "    }\n",
       "\n",
       "    .dataframe thead th {\n",
       "        text-align: right;\n",
       "    }\n",
       "</style>\n",
       "<table border=\"1\" class=\"dataframe\">\n",
       "  <thead>\n",
       "    <tr style=\"text-align: right;\">\n",
       "      <th></th>\n",
       "      <th>CaseOrder</th>\n",
       "      <th>Customer_id</th>\n",
       "      <th>Interaction</th>\n",
       "      <th>UID</th>\n",
       "      <th>City</th>\n",
       "      <th>State</th>\n",
       "      <th>County</th>\n",
       "      <th>Zip</th>\n",
       "      <th>Lat</th>\n",
       "      <th>Lng</th>\n",
       "      <th>...</th>\n",
       "      <th>MonthlyCharge</th>\n",
       "      <th>Bandwidth_GB_Year</th>\n",
       "      <th>Item1</th>\n",
       "      <th>Item2</th>\n",
       "      <th>Item3</th>\n",
       "      <th>Item4</th>\n",
       "      <th>Item5</th>\n",
       "      <th>Item6</th>\n",
       "      <th>Item7</th>\n",
       "      <th>Item8</th>\n",
       "    </tr>\n",
       "  </thead>\n",
       "  <tbody>\n",
       "    <tr>\n",
       "      <th>0</th>\n",
       "      <td>False</td>\n",
       "      <td>False</td>\n",
       "      <td>False</td>\n",
       "      <td>False</td>\n",
       "      <td>False</td>\n",
       "      <td>False</td>\n",
       "      <td>False</td>\n",
       "      <td>False</td>\n",
       "      <td>False</td>\n",
       "      <td>False</td>\n",
       "      <td>...</td>\n",
       "      <td>False</td>\n",
       "      <td>False</td>\n",
       "      <td>False</td>\n",
       "      <td>False</td>\n",
       "      <td>False</td>\n",
       "      <td>False</td>\n",
       "      <td>False</td>\n",
       "      <td>False</td>\n",
       "      <td>False</td>\n",
       "      <td>False</td>\n",
       "    </tr>\n",
       "    <tr>\n",
       "      <th>1</th>\n",
       "      <td>False</td>\n",
       "      <td>False</td>\n",
       "      <td>False</td>\n",
       "      <td>False</td>\n",
       "      <td>False</td>\n",
       "      <td>False</td>\n",
       "      <td>False</td>\n",
       "      <td>False</td>\n",
       "      <td>False</td>\n",
       "      <td>False</td>\n",
       "      <td>...</td>\n",
       "      <td>False</td>\n",
       "      <td>False</td>\n",
       "      <td>False</td>\n",
       "      <td>False</td>\n",
       "      <td>False</td>\n",
       "      <td>False</td>\n",
       "      <td>False</td>\n",
       "      <td>False</td>\n",
       "      <td>False</td>\n",
       "      <td>False</td>\n",
       "    </tr>\n",
       "    <tr>\n",
       "      <th>2</th>\n",
       "      <td>False</td>\n",
       "      <td>False</td>\n",
       "      <td>False</td>\n",
       "      <td>False</td>\n",
       "      <td>False</td>\n",
       "      <td>False</td>\n",
       "      <td>False</td>\n",
       "      <td>False</td>\n",
       "      <td>False</td>\n",
       "      <td>False</td>\n",
       "      <td>...</td>\n",
       "      <td>False</td>\n",
       "      <td>False</td>\n",
       "      <td>False</td>\n",
       "      <td>False</td>\n",
       "      <td>False</td>\n",
       "      <td>False</td>\n",
       "      <td>False</td>\n",
       "      <td>False</td>\n",
       "      <td>False</td>\n",
       "      <td>False</td>\n",
       "    </tr>\n",
       "    <tr>\n",
       "      <th>3</th>\n",
       "      <td>False</td>\n",
       "      <td>False</td>\n",
       "      <td>False</td>\n",
       "      <td>False</td>\n",
       "      <td>False</td>\n",
       "      <td>False</td>\n",
       "      <td>False</td>\n",
       "      <td>False</td>\n",
       "      <td>False</td>\n",
       "      <td>False</td>\n",
       "      <td>...</td>\n",
       "      <td>False</td>\n",
       "      <td>False</td>\n",
       "      <td>False</td>\n",
       "      <td>False</td>\n",
       "      <td>False</td>\n",
       "      <td>False</td>\n",
       "      <td>False</td>\n",
       "      <td>False</td>\n",
       "      <td>False</td>\n",
       "      <td>False</td>\n",
       "    </tr>\n",
       "    <tr>\n",
       "      <th>4</th>\n",
       "      <td>False</td>\n",
       "      <td>False</td>\n",
       "      <td>False</td>\n",
       "      <td>False</td>\n",
       "      <td>False</td>\n",
       "      <td>False</td>\n",
       "      <td>False</td>\n",
       "      <td>False</td>\n",
       "      <td>False</td>\n",
       "      <td>False</td>\n",
       "      <td>...</td>\n",
       "      <td>False</td>\n",
       "      <td>False</td>\n",
       "      <td>False</td>\n",
       "      <td>False</td>\n",
       "      <td>False</td>\n",
       "      <td>False</td>\n",
       "      <td>False</td>\n",
       "      <td>False</td>\n",
       "      <td>False</td>\n",
       "      <td>False</td>\n",
       "    </tr>\n",
       "    <tr>\n",
       "      <th>...</th>\n",
       "      <td>...</td>\n",
       "      <td>...</td>\n",
       "      <td>...</td>\n",
       "      <td>...</td>\n",
       "      <td>...</td>\n",
       "      <td>...</td>\n",
       "      <td>...</td>\n",
       "      <td>...</td>\n",
       "      <td>...</td>\n",
       "      <td>...</td>\n",
       "      <td>...</td>\n",
       "      <td>...</td>\n",
       "      <td>...</td>\n",
       "      <td>...</td>\n",
       "      <td>...</td>\n",
       "      <td>...</td>\n",
       "      <td>...</td>\n",
       "      <td>...</td>\n",
       "      <td>...</td>\n",
       "      <td>...</td>\n",
       "      <td>...</td>\n",
       "    </tr>\n",
       "    <tr>\n",
       "      <th>9995</th>\n",
       "      <td>False</td>\n",
       "      <td>False</td>\n",
       "      <td>False</td>\n",
       "      <td>False</td>\n",
       "      <td>False</td>\n",
       "      <td>False</td>\n",
       "      <td>False</td>\n",
       "      <td>False</td>\n",
       "      <td>False</td>\n",
       "      <td>False</td>\n",
       "      <td>...</td>\n",
       "      <td>False</td>\n",
       "      <td>False</td>\n",
       "      <td>False</td>\n",
       "      <td>False</td>\n",
       "      <td>False</td>\n",
       "      <td>False</td>\n",
       "      <td>False</td>\n",
       "      <td>False</td>\n",
       "      <td>False</td>\n",
       "      <td>False</td>\n",
       "    </tr>\n",
       "    <tr>\n",
       "      <th>9996</th>\n",
       "      <td>False</td>\n",
       "      <td>False</td>\n",
       "      <td>False</td>\n",
       "      <td>False</td>\n",
       "      <td>False</td>\n",
       "      <td>False</td>\n",
       "      <td>False</td>\n",
       "      <td>False</td>\n",
       "      <td>False</td>\n",
       "      <td>False</td>\n",
       "      <td>...</td>\n",
       "      <td>False</td>\n",
       "      <td>False</td>\n",
       "      <td>False</td>\n",
       "      <td>False</td>\n",
       "      <td>False</td>\n",
       "      <td>False</td>\n",
       "      <td>False</td>\n",
       "      <td>False</td>\n",
       "      <td>False</td>\n",
       "      <td>False</td>\n",
       "    </tr>\n",
       "    <tr>\n",
       "      <th>9997</th>\n",
       "      <td>False</td>\n",
       "      <td>False</td>\n",
       "      <td>False</td>\n",
       "      <td>False</td>\n",
       "      <td>False</td>\n",
       "      <td>False</td>\n",
       "      <td>False</td>\n",
       "      <td>False</td>\n",
       "      <td>False</td>\n",
       "      <td>False</td>\n",
       "      <td>...</td>\n",
       "      <td>False</td>\n",
       "      <td>False</td>\n",
       "      <td>False</td>\n",
       "      <td>False</td>\n",
       "      <td>False</td>\n",
       "      <td>False</td>\n",
       "      <td>False</td>\n",
       "      <td>False</td>\n",
       "      <td>False</td>\n",
       "      <td>False</td>\n",
       "    </tr>\n",
       "    <tr>\n",
       "      <th>9998</th>\n",
       "      <td>False</td>\n",
       "      <td>False</td>\n",
       "      <td>False</td>\n",
       "      <td>False</td>\n",
       "      <td>False</td>\n",
       "      <td>False</td>\n",
       "      <td>False</td>\n",
       "      <td>False</td>\n",
       "      <td>False</td>\n",
       "      <td>False</td>\n",
       "      <td>...</td>\n",
       "      <td>False</td>\n",
       "      <td>False</td>\n",
       "      <td>False</td>\n",
       "      <td>False</td>\n",
       "      <td>False</td>\n",
       "      <td>False</td>\n",
       "      <td>False</td>\n",
       "      <td>False</td>\n",
       "      <td>False</td>\n",
       "      <td>False</td>\n",
       "    </tr>\n",
       "    <tr>\n",
       "      <th>9999</th>\n",
       "      <td>False</td>\n",
       "      <td>False</td>\n",
       "      <td>False</td>\n",
       "      <td>False</td>\n",
       "      <td>False</td>\n",
       "      <td>False</td>\n",
       "      <td>False</td>\n",
       "      <td>False</td>\n",
       "      <td>False</td>\n",
       "      <td>False</td>\n",
       "      <td>...</td>\n",
       "      <td>False</td>\n",
       "      <td>False</td>\n",
       "      <td>False</td>\n",
       "      <td>False</td>\n",
       "      <td>False</td>\n",
       "      <td>False</td>\n",
       "      <td>False</td>\n",
       "      <td>False</td>\n",
       "      <td>False</td>\n",
       "      <td>False</td>\n",
       "    </tr>\n",
       "  </tbody>\n",
       "</table>\n",
       "<p>10000 rows × 50 columns</p>\n",
       "</div>"
      ],
      "text/plain": [
       "      CaseOrder  Customer_id  Interaction    UID   City  State  County    Zip  \\\n",
       "0         False        False        False  False  False  False   False  False   \n",
       "1         False        False        False  False  False  False   False  False   \n",
       "2         False        False        False  False  False  False   False  False   \n",
       "3         False        False        False  False  False  False   False  False   \n",
       "4         False        False        False  False  False  False   False  False   \n",
       "...         ...          ...          ...    ...    ...    ...     ...    ...   \n",
       "9995      False        False        False  False  False  False   False  False   \n",
       "9996      False        False        False  False  False  False   False  False   \n",
       "9997      False        False        False  False  False  False   False  False   \n",
       "9998      False        False        False  False  False  False   False  False   \n",
       "9999      False        False        False  False  False  False   False  False   \n",
       "\n",
       "        Lat    Lng  ...  MonthlyCharge  Bandwidth_GB_Year  Item1  Item2  \\\n",
       "0     False  False  ...          False              False  False  False   \n",
       "1     False  False  ...          False              False  False  False   \n",
       "2     False  False  ...          False              False  False  False   \n",
       "3     False  False  ...          False              False  False  False   \n",
       "4     False  False  ...          False              False  False  False   \n",
       "...     ...    ...  ...            ...                ...    ...    ...   \n",
       "9995  False  False  ...          False              False  False  False   \n",
       "9996  False  False  ...          False              False  False  False   \n",
       "9997  False  False  ...          False              False  False  False   \n",
       "9998  False  False  ...          False              False  False  False   \n",
       "9999  False  False  ...          False              False  False  False   \n",
       "\n",
       "      Item3  Item4  Item5  Item6  Item7  Item8  \n",
       "0     False  False  False  False  False  False  \n",
       "1     False  False  False  False  False  False  \n",
       "2     False  False  False  False  False  False  \n",
       "3     False  False  False  False  False  False  \n",
       "4     False  False  False  False  False  False  \n",
       "...     ...    ...    ...    ...    ...    ...  \n",
       "9995  False  False  False  False  False  False  \n",
       "9996  False  False  False  False  False  False  \n",
       "9997  False  False  False  False  False  False  \n",
       "9998  False  False  False  False  False  False  \n",
       "9999  False  False  False  False  False  False  \n",
       "\n",
       "[10000 rows x 50 columns]"
      ]
     },
     "execution_count": 9,
     "metadata": {},
     "output_type": "execute_result"
    }
   ],
   "source": [
    "df.isna()"
   ]
  },
  {
   "cell_type": "code",
   "execution_count": 10,
   "id": "a2b97ec5",
   "metadata": {},
   "outputs": [
    {
     "data": {
      "text/plain": [
       "CaseOrder               0\n",
       "Customer_id             0\n",
       "Interaction             0\n",
       "UID                     0\n",
       "City                    0\n",
       "State                   0\n",
       "County                  0\n",
       "Zip                     0\n",
       "Lat                     0\n",
       "Lng                     0\n",
       "Population              0\n",
       "Area                    0\n",
       "TimeZone                0\n",
       "Job                     0\n",
       "Children                0\n",
       "Age                     0\n",
       "Income                  0\n",
       "Marital                 0\n",
       "Gender                  0\n",
       "Churn                   0\n",
       "Outage_sec_perweek      0\n",
       "Email                   0\n",
       "Contacts                0\n",
       "Yearly_equip_failure    0\n",
       "Techie                  0\n",
       "Contract                0\n",
       "Port_modem              0\n",
       "Tablet                  0\n",
       "InternetService         0\n",
       "Phone                   0\n",
       "Multiple                0\n",
       "OnlineSecurity          0\n",
       "OnlineBackup            0\n",
       "DeviceProtection        0\n",
       "TechSupport             0\n",
       "StreamingTV             0\n",
       "StreamingMovies         0\n",
       "PaperlessBilling        0\n",
       "PaymentMethod           0\n",
       "Tenure                  0\n",
       "MonthlyCharge           0\n",
       "Bandwidth_GB_Year       0\n",
       "Item1                   0\n",
       "Item2                   0\n",
       "Item3                   0\n",
       "Item4                   0\n",
       "Item5                   0\n",
       "Item6                   0\n",
       "Item7                   0\n",
       "Item8                   0\n",
       "dtype: int64"
      ]
     },
     "execution_count": 10,
     "metadata": {},
     "output_type": "execute_result"
    }
   ],
   "source": [
    "df.isna().sum()"
   ]
  },
  {
   "cell_type": "code",
   "execution_count": 11,
   "id": "4a73ab9f",
   "metadata": {},
   "outputs": [
    {
     "data": {
      "text/plain": [
       "CaseOrder               10000\n",
       "Customer_id             10000\n",
       "Interaction             10000\n",
       "UID                     10000\n",
       "City                     6058\n",
       "State                      52\n",
       "County                   1620\n",
       "Zip                      8583\n",
       "Lat                      8563\n",
       "Lng                      8630\n",
       "Population               5933\n",
       "Area                        3\n",
       "TimeZone                   25\n",
       "Job                       639\n",
       "Children                   11\n",
       "Age                        72\n",
       "Income                   9993\n",
       "Marital                     5\n",
       "Gender                      3\n",
       "Churn                       2\n",
       "Outage_sec_perweek       9986\n",
       "Email                      23\n",
       "Contacts                    8\n",
       "Yearly_equip_failure        6\n",
       "Techie                      2\n",
       "Contract                    3\n",
       "Port_modem                  2\n",
       "Tablet                      2\n",
       "InternetService             3\n",
       "Phone                       2\n",
       "Multiple                    2\n",
       "OnlineSecurity              2\n",
       "OnlineBackup                2\n",
       "DeviceProtection            2\n",
       "TechSupport                 2\n",
       "StreamingTV                 2\n",
       "StreamingMovies             2\n",
       "PaperlessBilling            2\n",
       "PaymentMethod               4\n",
       "Tenure                   9996\n",
       "MonthlyCharge             750\n",
       "Bandwidth_GB_Year       10000\n",
       "Item1                       7\n",
       "Item2                       7\n",
       "Item3                       8\n",
       "Item4                       7\n",
       "Item5                       7\n",
       "Item6                       8\n",
       "Item7                       7\n",
       "Item8                       8\n",
       "dtype: int64"
      ]
     },
     "execution_count": 11,
     "metadata": {},
     "output_type": "execute_result"
    }
   ],
   "source": [
    "df.nunique()"
   ]
  },
  {
   "cell_type": "code",
   "execution_count": 12,
   "id": "32ee1de8",
   "metadata": {},
   "outputs": [
    {
     "data": {
      "text/plain": [
       "<AxesSubplot:>"
      ]
     },
     "execution_count": 12,
     "metadata": {},
     "output_type": "execute_result"
    },
    {
     "data": {
      "image/png": "[encoded data removed]",
      "text/plain": [
       "<Figure size 432x288 with 1 Axes>"
      ]
     },
     "metadata": {
      "needs_background": "light"
     },
     "output_type": "display_data"
    }
   ],
   "source": [
    "df['MonthlyCharge'].hist()"
   ]
  },
  {
   "cell_type": "code",
   "execution_count": 13,
   "id": "becaeca3",
   "metadata": {},
   "outputs": [
    {
     "data": {
      "image/png": "[encoded data removed]",
      "text/plain": [
       "<Figure size 432x288 with 1 Axes>"
      ]
     },
     "metadata": {
      "needs_background": "light"
     },
     "output_type": "display_data"
    }
   ],
   "source": [
    "boxplot=sns.boxplot(x='MonthlyCharge',data=df)"
   ]
  },
  {
   "cell_type": "code",
   "execution_count": 14,
   "id": "8dbd57a8",
   "metadata": {},
   "outputs": [
    {
     "data": {
      "text/plain": [
       "<AxesSubplot:>"
      ]
     },
     "execution_count": 14,
     "metadata": {},
     "output_type": "execute_result"
    },
    {
     "data": {
      "image/png": "[encoded data removed]",
      "text/plain": [
       "<Figure size 432x288 with 1 Axes>"
      ]
     },
     "metadata": {
      "needs_background": "light"
     },
     "output_type": "display_data"
    }
   ],
   "source": [
    "df['Age'].hist()"
   ]
  },
  {
   "cell_type": "code",
   "execution_count": 15,
   "id": "4aa71769",
   "metadata": {},
   "outputs": [
    {
     "data": {
      "image/png": "[encoded data removed]",
      "text/plain": [
       "<Figure size 432x288 with 1 Axes>"
      ]
     },
     "metadata": {
      "needs_background": "light"
     },
     "output_type": "display_data"
    }
   ],
   "source": [
    "boxplot=sns.boxplot(x='Age',data=df)"
   ]
  },
  {
   "cell_type": "code",
   "execution_count": 16,
   "id": "ec4b7da4",
   "metadata": {},
   "outputs": [
    {
     "data": {
      "text/plain": [
       "OnlineSecurity\n",
       "No     6424\n",
       "Yes    3576\n",
       "dtype: int64"
      ]
     },
     "execution_count": 16,
     "metadata": {},
     "output_type": "execute_result"
    }
   ],
   "source": [
    "groupedOnlineSecurity = df.groupby(by=\"OnlineSecurity\").size()\n",
    "groupedOnlineSecurity"
   ]
  },
  {
   "cell_type": "code",
   "execution_count": 17,
   "id": "222fb431",
   "metadata": {},
   "outputs": [
    {
     "data": {
      "text/plain": [
       "<AxesSubplot:xlabel='OnlineSecurity'>"
      ]
     },
     "execution_count": 17,
     "metadata": {},
     "output_type": "execute_result"
    },
    {
     "data": {
      "image/png": "[encoded data removed]",
      "text/plain": [
       "<Figure size 432x288 with 1 Axes>"
      ]
     },
     "metadata": {
      "needs_background": "light"
     },
     "output_type": "display_data"
    }
   ],
   "source": [
    "%matplotlib inline\n",
    "groupedOnlineSecurity.plot.bar()"
   ]
  },
  {
   "cell_type": "code",
   "execution_count": 18,
   "id": "0a708a57",
   "metadata": {},
   "outputs": [
    {
     "data": {
      "text/plain": [
       "InternetService\n",
       "DSL            3463\n",
       "Fiber Optic    4408\n",
       "None           2129\n",
       "dtype: int64"
      ]
     },
     "execution_count": 18,
     "metadata": {},
     "output_type": "execute_result"
    }
   ],
   "source": [
    "groupedInternetService = df.groupby(by=\"InternetService\").size()\n",
    "groupedInternetService"
   ]
  },
  {
   "cell_type": "code",
   "execution_count": 19,
   "id": "4cf12e0a",
   "metadata": {},
   "outputs": [
    {
     "data": {
      "text/plain": [
       "<AxesSubplot:xlabel='InternetService'>"
      ]
     },
     "execution_count": 19,
     "metadata": {},
     "output_type": "execute_result"
    },
    {
     "data": {
      "image/png": "[encoded data removed]",
      "text/plain": [
       "<Figure size 432x288 with 1 Axes>"
      ]
     },
     "metadata": {
      "needs_background": "light"
     },
     "output_type": "display_data"
    }
   ],
   "source": [
    "groupedInternetService.plot.bar()"
   ]
  },
  {
   "cell_type": "code",
   "execution_count": 30,
   "id": "cac77c8d",
   "metadata": {},
   "outputs": [
    {
     "data": {
      "text/plain": [
       "Churn\n",
       "No     7350\n",
       "Yes    2650\n",
       "dtype: int64"
      ]
     },
     "execution_count": 30,
     "metadata": {},
     "output_type": "execute_result"
    }
   ],
   "source": [
    "groupedChurn = df.groupby(by=\"Churn\").size()\n",
    "groupedChurn"
   ]
  },
  {
   "cell_type": "code",
   "execution_count": 31,
   "id": "97579289",
   "metadata": {},
   "outputs": [
    {
     "data": {
      "text/plain": [
       "<AxesSubplot:xlabel='Churn'>"
      ]
     },
     "execution_count": 31,
     "metadata": {},
     "output_type": "execute_result"
    },
    {
     "data": {
      "image/png": "[encoded data removed]",
      "text/plain": [
       "<Figure size 432x288 with 1 Axes>"
      ]
     },
     "metadata": {
      "needs_background": "light"
     },
     "output_type": "display_data"
    }
   ],
   "source": [
    "groupedChurn.plot.bar()"
   ]
  },
  {
   "cell_type": "code",
   "execution_count": 20,
   "id": "2d4d8b55",
   "metadata": {},
   "outputs": [
    {
     "data": {
      "text/plain": [
       "<AxesSubplot:xlabel='MonthlyCharge', ylabel='InternetService'>"
      ]
     },
     "execution_count": 20,
     "metadata": {},
     "output_type": "execute_result"
    },
    {
     "data": {
      "image/png": "[encoded data removed]",
      "text/plain": [
       "<Figure size 432x288 with 1 Axes>"
      ]
     },
     "metadata": {
      "needs_background": "light"
     },
     "output_type": "display_data"
    }
   ],
   "source": [
    "df.plot.scatter(x='MonthlyCharge', y='InternetService')"
   ]
  },
  {
   "cell_type": "code",
   "execution_count": 21,
   "id": "6839ada5",
   "metadata": {},
   "outputs": [
    {
     "data": {
      "text/plain": [
       "<AxesSubplot:xlabel='Age', ylabel='InternetService'>"
      ]
     },
     "execution_count": 21,
     "metadata": {},
     "output_type": "execute_result"
    },
    {
     "data": {
      "image/png": "[encoded data removed]",
      "text/plain": [
       "<Figure size 432x288 with 1 Axes>"
      ]
     },
     "metadata": {
      "needs_background": "light"
     },
     "output_type": "display_data"
    }
   ],
   "source": [
    "df.plot.scatter(x='Age', y='InternetService')"
   ]
  },
  {
   "cell_type": "code",
   "execution_count": 22,
   "id": "0dee6e63",
   "metadata": {},
   "outputs": [
    {
     "data": {
      "text/plain": [
       "<AxesSubplot:xlabel='MonthlyCharge', ylabel='OnlineSecurity'>"
      ]
     },
     "execution_count": 22,
     "metadata": {},
     "output_type": "execute_result"
    },
    {
     "data": {
      "image/png": "[encoded data removed]",
      "text/plain": [
       "<Figure size 432x288 with 1 Axes>"
      ]
     },
     "metadata": {
      "needs_background": "light"
     },
     "output_type": "display_data"
    }
   ],
   "source": [
    "df.plot.scatter(x='MonthlyCharge', y='OnlineSecurity')"
   ]
  },
  {
   "cell_type": "code",
   "execution_count": 23,
   "id": "a74b422a",
   "metadata": {},
   "outputs": [
    {
     "data": {
      "text/plain": [
       "<AxesSubplot:xlabel='Age', ylabel='OnlineSecurity'>"
      ]
     },
     "execution_count": 23,
     "metadata": {},
     "output_type": "execute_result"
    },
    {
     "data": {
      "image/png": "[encoded data removed]",
      "text/plain": [
       "<Figure size 432x288 with 1 Axes>"
      ]
     },
     "metadata": {
      "needs_background": "light"
     },
     "output_type": "display_data"
    }
   ],
   "source": [
    "df.plot.scatter(x='Age', y='OnlineSecurity')"
   ]
  },
  {
   "cell_type": "code",
   "execution_count": 24,
   "id": "b788626b",
   "metadata": {},
   "outputs": [
    {
     "data": {
      "text/plain": [
       "<AxesSubplot:xlabel='Churn', ylabel='OnlineSecurity'>"
      ]
     },
     "execution_count": 24,
     "metadata": {},
     "output_type": "execute_result"
    },
    {
     "data": {
      "image/png": "[encoded data removed]",
      "text/plain": [
       "<Figure size 432x288 with 1 Axes>"
      ]
     },
     "metadata": {
      "needs_background": "light"
     },
     "output_type": "display_data"
    }
   ],
   "source": [
    "df.plot.scatter(x='Churn', y='OnlineSecurity')"
   ]
  },
  {
   "cell_type": "code",
   "execution_count": 23,
   "id": "1dc18789",
   "metadata": {},
   "outputs": [
    {
     "data": {
      "image/png": "[encoded data removed]",
      "text/plain": [
       "<Figure size 432x288 with 1 Axes>"
      ]
     },
     "metadata": {
      "needs_background": "light"
     },
     "output_type": "display_data"
    }
   ],
   "source": [
    "sns.scatterplot(x='Age', y='MonthlyCharge', data=df)\n",
    "plt.show()"
   ]
  },
  {
   "cell_type": "code",
   "execution_count": 24,
   "id": "23053842",
   "metadata": {},
   "outputs": [
    {
     "data": {
      "image/png": "[encoded data removed]",
      "text/plain": [
       "<Figure size 432x288 with 1 Axes>"
      ]
     },
     "metadata": {
      "needs_background": "light"
     },
     "output_type": "display_data"
    }
   ],
   "source": [
    "sns.scatterplot(x='InternetService', y='OnlineSecurity', data=df)\n",
    "plt.show()"
   ]
  },
  {
   "cell_type": "code",
   "execution_count": 25,
   "id": "2f911068",
   "metadata": {},
   "outputs": [
    {
     "data": {
      "text/plain": [
       "<AxesSubplot:title={'center':'MonthlyCharge'}, xlabel='InternetService'>"
      ]
     },
     "execution_count": 25,
     "metadata": {},
     "output_type": "execute_result"
    },
    {
     "data": {
      "image/png": "[encoded data removed]",
      "text/plain": [
       "<Figure size 432x288 with 1 Axes>"
      ]
     },
     "metadata": {
      "needs_background": "light"
     },
     "output_type": "display_data"
    }
   ],
   "source": [
    "df.boxplot('MonthlyCharge', by='InternetService')"
   ]
  },
  {
   "cell_type": "code",
   "execution_count": 26,
   "id": "a120095c",
   "metadata": {},
   "outputs": [],
   "source": [
    "Ano2=ols('MonthlyCharge~InternetService+OnlineSecurity',data=df).fit()\n",
    "Two=sm.stats.anova_lm(Ano2, typ=2)"
   ]
  },
  {
   "cell_type": "code",
   "execution_count": 27,
   "id": "69a26d99",
   "metadata": {},
   "outputs": [
    {
     "data": {
      "text/html": [
       "<div>\n",
       "<style scoped>\n",
       "    .dataframe tbody tr th:only-of-type {\n",
       "        vertical-align: middle;\n",
       "    }\n",
       "\n",
       "    .dataframe tbody tr th {\n",
       "        vertical-align: top;\n",
       "    }\n",
       "\n",
       "    .dataframe thead th {\n",
       "        text-align: right;\n",
       "    }\n",
       "</style>\n",
       "<table border=\"1\" class=\"dataframe\">\n",
       "  <thead>\n",
       "    <tr style=\"text-align: right;\">\n",
       "      <th></th>\n",
       "      <th>sum_sq</th>\n",
       "      <th>df</th>\n",
       "      <th>F</th>\n",
       "      <th>PR(&gt;F)</th>\n",
       "    </tr>\n",
       "  </thead>\n",
       "  <tbody>\n",
       "    <tr>\n",
       "      <th>InternetService</th>\n",
       "      <td>1.766161e+06</td>\n",
       "      <td>2.0</td>\n",
       "      <td>530.769841</td>\n",
       "      <td>8.440510e-220</td>\n",
       "    </tr>\n",
       "    <tr>\n",
       "      <th>OnlineSecurity</th>\n",
       "      <td>3.249957e+04</td>\n",
       "      <td>1.0</td>\n",
       "      <td>19.533660</td>\n",
       "      <td>9.988480e-06</td>\n",
       "    </tr>\n",
       "    <tr>\n",
       "      <th>Residual</th>\n",
       "      <td>1.663107e+07</td>\n",
       "      <td>9996.0</td>\n",
       "      <td>NaN</td>\n",
       "      <td>NaN</td>\n",
       "    </tr>\n",
       "  </tbody>\n",
       "</table>\n",
       "</div>"
      ],
      "text/plain": [
       "                       sum_sq      df           F         PR(>F)\n",
       "InternetService  1.766161e+06     2.0  530.769841  8.440510e-220\n",
       "OnlineSecurity   3.249957e+04     1.0   19.533660   9.988480e-06\n",
       "Residual         1.663107e+07  9996.0         NaN            NaN"
      ]
     },
     "execution_count": 27,
     "metadata": {},
     "output_type": "execute_result"
    }
   ],
   "source": [
    "Two"
   ]
  },
  {
   "cell_type": "code",
   "execution_count": 28,
   "id": "a26b54d5",
   "metadata": {},
   "outputs": [],
   "source": [
    "#Interaction effect\n",
    "Ano3=ols('MonthlyCharge~InternetService+OnlineSecurity+InternetService*OnlineSecurity',data=df).fit()\n",
    "Int=sm.stats.anova_lm(Ano3, typ=2)"
   ]
  },
  {
   "cell_type": "code",
   "execution_count": 29,
   "id": "a1532c2e",
   "metadata": {},
   "outputs": [
    {
     "data": {
      "text/html": [
       "<div>\n",
       "<style scoped>\n",
       "    .dataframe tbody tr th:only-of-type {\n",
       "        vertical-align: middle;\n",
       "    }\n",
       "\n",
       "    .dataframe tbody tr th {\n",
       "        vertical-align: top;\n",
       "    }\n",
       "\n",
       "    .dataframe thead th {\n",
       "        text-align: right;\n",
       "    }\n",
       "</style>\n",
       "<table border=\"1\" class=\"dataframe\">\n",
       "  <thead>\n",
       "    <tr style=\"text-align: right;\">\n",
       "      <th></th>\n",
       "      <th>sum_sq</th>\n",
       "      <th>df</th>\n",
       "      <th>F</th>\n",
       "      <th>PR(&gt;F)</th>\n",
       "    </tr>\n",
       "  </thead>\n",
       "  <tbody>\n",
       "    <tr>\n",
       "      <th>InternetService</th>\n",
       "      <td>1.766161e+06</td>\n",
       "      <td>2.0</td>\n",
       "      <td>530.777205</td>\n",
       "      <td>8.425925e-220</td>\n",
       "    </tr>\n",
       "    <tr>\n",
       "      <th>OnlineSecurity</th>\n",
       "      <td>3.249957e+04</td>\n",
       "      <td>1.0</td>\n",
       "      <td>19.533931</td>\n",
       "      <td>9.987086e-06</td>\n",
       "    </tr>\n",
       "    <tr>\n",
       "      <th>InternetService:OnlineSecurity</th>\n",
       "      <td>3.558221e+03</td>\n",
       "      <td>2.0</td>\n",
       "      <td>1.069338</td>\n",
       "      <td>3.432751e-01</td>\n",
       "    </tr>\n",
       "    <tr>\n",
       "      <th>Residual</th>\n",
       "      <td>1.662752e+07</td>\n",
       "      <td>9994.0</td>\n",
       "      <td>NaN</td>\n",
       "      <td>NaN</td>\n",
       "    </tr>\n",
       "  </tbody>\n",
       "</table>\n",
       "</div>"
      ],
      "text/plain": [
       "                                      sum_sq      df           F  \\\n",
       "InternetService                 1.766161e+06     2.0  530.777205   \n",
       "OnlineSecurity                  3.249957e+04     1.0   19.533931   \n",
       "InternetService:OnlineSecurity  3.558221e+03     2.0    1.069338   \n",
       "Residual                        1.662752e+07  9994.0         NaN   \n",
       "\n",
       "                                       PR(>F)  \n",
       "InternetService                 8.425925e-220  \n",
       "OnlineSecurity                   9.987086e-06  \n",
       "InternetService:OnlineSecurity   3.432751e-01  \n",
       "Residual                                  NaN  "
      ]
     },
     "execution_count": 29,
     "metadata": {},
     "output_type": "execute_result"
    }
   ],
   "source": [
    "Int"
   ]
  },
  {
   "cell_type": "code",
   "execution_count": null,
   "id": "0ca3458c",
   "metadata": {},
   "outputs": [],
   "source": []
  },
  {
   "cell_type": "code",
   "execution_count": null,
   "id": "e241af79",
   "metadata": {},
   "outputs": [],
   "source": []
  }
 ],
 "metadata": {
  "kernelspec": {
   "display_name": "Python 3 (ipykernel)",
   "language": "python",
   "name": "python3"
  },
  "language_info": {
   "codemirror_mode": {
    "name": "ipython",
    "version": 3
   },
   "file_extension": ".py",
   "mimetype": "text/x-python",
   "name": "python",
   "nbconvert_exporter": "python",
   "pygments_lexer": "ipython3",
   "version": "3.8.8"
  }
 },
 "nbformat": 4,
 "nbformat_minor": 5
}
